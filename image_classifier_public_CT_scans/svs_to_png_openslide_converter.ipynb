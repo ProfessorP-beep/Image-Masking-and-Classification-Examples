{
 "cells": [
  {
   "cell_type": "code",
   "execution_count": 1,
   "id": "4288ee2b-8015-464a-9760-3cc42825eadc",
   "metadata": {},
   "outputs": [],
   "source": [
    "import numpy as np\n",
    "import matplotlib.pyplot as py\n",
    "import os\n",
    "import cv2\n",
    "from pathlib import Path\n",
    "from imread import imread, imsave\n",
    "import tifffile\n",
    "import openslide\n",
    "from PIL import Image"
   ]
  },
  {
   "cell_type": "code",
   "execution_count": 2,
   "id": "11c00f9f-1b19-4609-b0e0-39d54160a7c4",
   "metadata": {},
   "outputs": [],
   "source": [
    "svs_images = Path('path/to/file')"
   ]
  },
  {
   "cell_type": "code",
   "execution_count": null,
   "id": "e38cd388-9557-4692-bc51-9b6b99783d16",
   "metadata": {},
   "outputs": [],
   "source": [
    "svs_images"
   ]
  },
  {
   "cell_type": "code",
   "execution_count": 4,
   "id": "69d2e359-b574-4ff3-b424-cc45b0ccce3f",
   "metadata": {},
   "outputs": [],
   "source": [
    "test_svs = Path('path/to/file')"
   ]
  },
  {
   "cell_type": "code",
   "execution_count": null,
   "id": "4787c38f-d3e2-4ce8-82b8-8ca7951e249c",
   "metadata": {},
   "outputs": [],
   "source": [
    "test_svs"
   ]
  },
  {
   "cell_type": "code",
   "execution_count": 6,
   "id": "505e32a8-5a39-42e2-abe8-97a4e707d964",
   "metadata": {},
   "outputs": [],
   "source": [
    "svs_stack = tifffile.imread(test_svs)"
   ]
  },
  {
   "cell_type": "code",
   "execution_count": null,
   "id": "44815d15-c419-4f40-ba28-0931d519e107",
   "metadata": {},
   "outputs": [],
   "source": [
    "svs_stack.shape"
   ]
  },
  {
   "cell_type": "code",
   "execution_count": 8,
   "id": "09e7cabc-5716-4595-99af-8a5342995047",
   "metadata": {},
   "outputs": [],
   "source": [
    "from PIL import Image, ImageFilter\n",
    "\n",
    "def svs_to_png(svs_path, output_dir, target_size=(1024, 1024)):\n",
    "    # Open the .svs file\n",
    "    slide = openslide.open_slide(svs_path)\n",
    "    \n",
    "    # Read the entire slide region\n",
    "    full_slide = slide.read_region((0, 0), 0, slide.level_dimensions[0])\n",
    "    \n",
    "    # Calculate resize dimensions while maintaining aspect ratio\n",
    "    width_ratio = target_size[0] / full_slide.width\n",
    "    height_ratio = target_size[1] / full_slide.height\n",
    "    resize_ratio = min(width_ratio, height_ratio)\n",
    "    new_width = int(full_slide.width * resize_ratio)\n",
    "    new_height = int(full_slide.height * resize_ratio)\n",
    "    \n",
    "    # Resize the slide while maintaining aspect ratio\n",
    "    resized_slide = full_slide.resize((new_width, new_height), Image.LANCZOS)\n",
    "    \n",
    "    # Create a blank canvas of the target size\n",
    "    canvas = Image.new(\"RGB\", target_size)\n",
    "    \n",
    "    # Calculate the position to paste the resized slide onto the canvas\n",
    "    paste_position = ((target_size[0] - new_width) // 2, (target_size[1] - new_height) // 2)\n",
    "    \n",
    "    # Paste the resized slide onto the canvas\n",
    "    canvas.paste(resized_slide, paste_position)\n",
    "    \n",
    "    # Define the output path for the PNG file\n",
    "    png_path = os.path.join(output_dir, os.path.splitext(os.path.basename(svs_path))[0] + '.png')\n",
    "    \n",
    "    # Save the resized slide as a PNG file\n",
    "    canvas.save(png_path, format='PNG')\n",
    "    \n",
    "    return png_path\n"
   ]
  },
  {
   "cell_type": "code",
   "execution_count": 9,
   "id": "4f3a7d8a-4b76-47c9-8e92-e22747c579dd",
   "metadata": {},
   "outputs": [],
   "source": [
    "def convert_directory(input_dir, output_dir):\n",
    "    # Create the output directory if it doesn't exist\n",
    "    os.makedirs(output_dir, exist_ok=True)\n",
    "    \n",
    "    # Iterate over all files in the input directory\n",
    "    for root, _, files in os.walk(input_dir):\n",
    "        for file in files:\n",
    "            if file.endswith('.svs'):\n",
    "                svs_path = os.path.join(root, file)\n",
    "                png_path = svs_to_png(svs_path, output_dir)\n",
    "                print(f\"Converted {svs_path} to PNG format at {png_path}\")"
   ]
  },
  {
   "cell_type": "code",
   "execution_count": 10,
   "id": "66d480be-f9cd-4d89-86ba-cf606f501880",
   "metadata": {},
   "outputs": [],
   "source": [
    "output_dir = 'path/to/output'"
   ]
  },
  {
   "cell_type": "code",
   "execution_count": null,
   "id": "856c873e-0926-4764-9af0-74e8f5bcc7e8",
   "metadata": {},
   "outputs": [],
   "source": [
    "convert_directory(svs_images, output_dir)"
   ]
  }
 ],
 "metadata": {
  "kernelspec": {
   "display_name": "Python 3 (ipykernel)",
   "language": "python",
   "name": "python3"
  },
  "language_info": {
   "codemirror_mode": {
    "name": "ipython",
    "version": 3
   },
   "file_extension": ".py",
   "mimetype": "text/x-python",
   "name": "python",
   "nbconvert_exporter": "python",
   "pygments_lexer": "ipython3",
   "version": "3.11.6"
  }
 },
 "nbformat": 4,
 "nbformat_minor": 5
}
